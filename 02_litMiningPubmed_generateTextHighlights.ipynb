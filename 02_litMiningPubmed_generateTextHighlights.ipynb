{
 "cells": [
  {
   "cell_type": "code",
   "execution_count": 1,
   "id": "9ee9b6da-36b7-49c2-a485-86c590bdf8ee",
   "metadata": {},
   "outputs": [],
   "source": [
    "### STEP 1. Preamble\n",
    "import coloredlogs\n",
    "import ipdb\n",
    "import json\n",
    "import logging\n",
    "import os\n",
    "import pylatex\n",
    "import pylatexenc\n",
    "from pylatexenc import latexencode  # line is necessary\n",
    "import re\n",
    "import subprocess\n",
    "import tkinter\n",
    "import tkinter.filedialog\n",
    "\n",
    "verbose = True\n",
    "\n",
    "### STEP 2. Set up logger\n",
    "log = logging.getLogger(__name__)\n",
    "if verbose:\n",
    "    coloredlogs.install(fmt='%(asctime)s [%(levelname)s] %(message)s', level=logging.DEBUG, logger=log)\n",
    "else:\n",
    "    coloredlogs.install(fmt='%(asctime)s [%(levelname)s] %(message)s', level=logging.INFO, logger=log)"
   ]
  },
  {
   "cell_type": "code",
   "execution_count": 2,
   "id": "762b8721-95c0-4141-98dc-7c3153c56a7f",
   "metadata": {
    "tags": []
   },
   "outputs": [],
   "source": [
    "### STEP 3. Read JSON infile\n",
    "tkinter.Tk().withdraw() ## Prevent root window\n",
    "in_fn = tkinter.filedialog.askopenfilename()\n",
    "\n",
    "output_fn = in_fn.strip(\".json\")\n",
    "\n",
    "with open(in_fn, 'r') as file:\n",
    "    masterDict = json.load(file)   "
   ]
  }
 ],
 "metadata": {
  "kernelspec": {
   "display_name": "Python 3",
   "language": "python",
   "name": "python3"
  },
  "language_info": {
   "codemirror_mode": {
    "name": "ipython",
    "version": 3
   },
   "file_extension": ".py",
   "mimetype": "text/x-python",
   "name": "python",
   "nbconvert_exporter": "python",
   "pygments_lexer": "ipython3",
   "version": "3.9.2"
  }
 },
 "nbformat": 4,
 "nbformat_minor": 5
}
