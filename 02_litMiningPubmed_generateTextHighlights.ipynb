{
 "cells": [
  {
   "cell_type": "code",
   "execution_count": 1,
   "id": "9ee9b6da-36b7-49c2-a485-86c590bdf8ee",
   "metadata": {},
   "outputs": [],
   "source": [
    "### STEP 1. Preamble\n",
    "import coloredlogs\n",
    "import ipdb\n",
    "import json\n",
    "import logging\n",
    "import os\n",
    "import pylatex\n",
    "import pylatexenc\n",
    "from pylatexenc import latexencode  # line is necessary\n",
    "import re\n",
    "import subprocess\n",
    "import tkinter\n",
    "import tkinter.filedialog\n",
    "\n",
    "verbose = True\n",
    "\n",
    "### STEP 2. Set up logger\n",
    "log = logging.getLogger(__name__)\n",
    "if verbose:\n",
    "    coloredlogs.install(fmt='%(asctime)s [%(levelname)s] %(message)s', level=logging.DEBUG, logger=log)\n",
    "else:\n",
    "    coloredlogs.install(fmt='%(asctime)s [%(levelname)s] %(message)s', level=logging.INFO, logger=log)"
   ]
  },
  {
   "cell_type": "code",
   "execution_count": 2,
   "id": "762b8721-95c0-4141-98dc-7c3153c56a7f",
   "metadata": {
    "tags": []
   },
   "outputs": [],
   "source": [
    "### STEP 3. Read JSON infile\n",
    "tkinter.Tk().withdraw() ## Prevent root window\n",
    "in_fn = tkinter.filedialog.askopenfilename()\n",
    "\n",
    "output_fn = in_fn.strip(\".json\")\n",
    "\n",
    "with open(in_fn, 'r') as file:\n",
    "    masterDict = json.load(file)   "
   ]
  },
  {
   "cell_type": "code",
   "execution_count": 1,
   "id": "5652eb25-b232-48c8-baf7-426b5dd413c7",
   "metadata": {},
   "outputs": [
    {
     "ename": "NameError",
     "evalue": "name 'log' is not defined",
     "output_type": "error",
     "traceback": [
      "\u001b[0;31m---------------------------------------------------------------------------\u001b[0m",
      "\u001b[0;31mNameError\u001b[0m                                 Traceback (most recent call last)",
      "Input \u001b[0;32mIn [1]\u001b[0m, in \u001b[0;36m<cell line: 3>\u001b[0;34m()\u001b[0m\n\u001b[1;32m      1\u001b[0m \u001b[38;5;66;03m### STEP 4. Writing results to output LaTeX document\u001b[39;00m\n\u001b[1;32m      2\u001b[0m action \u001b[38;5;241m=\u001b[39m \u001b[38;5;124m\"\u001b[39m\u001b[38;5;124mwriting output to LaTeX file\u001b[39m\u001b[38;5;124m\"\u001b[39m\n\u001b[0;32m----> 3\u001b[0m \u001b[43mlog\u001b[49m\u001b[38;5;241m.\u001b[39minfo(\u001b[38;5;124m\"\u001b[39m\u001b[38;5;132;01m%s\u001b[39;00m\u001b[38;5;124m\"\u001b[39m \u001b[38;5;241m%\u001b[39m action)\n\u001b[1;32m      4\u001b[0m geometry_options \u001b[38;5;241m=\u001b[39m {\u001b[38;5;124m'\u001b[39m\u001b[38;5;124mtmargin\u001b[39m\u001b[38;5;124m'\u001b[39m: \u001b[38;5;124m'\u001b[39m\u001b[38;5;124m2cm\u001b[39m\u001b[38;5;124m'\u001b[39m, \u001b[38;5;124m'\u001b[39m\u001b[38;5;124mlmargin\u001b[39m\u001b[38;5;124m'\u001b[39m: \u001b[38;5;124m'\u001b[39m\u001b[38;5;124m2cm\u001b[39m\u001b[38;5;124m'\u001b[39m, \u001b[38;5;124m'\u001b[39m\u001b[38;5;124mbmargin\u001b[39m\u001b[38;5;124m'\u001b[39m: \u001b[38;5;124m'\u001b[39m\u001b[38;5;124m2cm\u001b[39m\u001b[38;5;124m'\u001b[39m, \u001b[38;5;124m'\u001b[39m\u001b[38;5;124mrmargin\u001b[39m\u001b[38;5;124m'\u001b[39m: \u001b[38;5;124m'\u001b[39m\u001b[38;5;124m2cm\u001b[39m\u001b[38;5;124m'\u001b[39m}\n\u001b[1;32m      5\u001b[0m doc \u001b[38;5;241m=\u001b[39m pylatex\u001b[38;5;241m.\u001b[39mDocument(geometry_options\u001b[38;5;241m=\u001b[39mgeometry_options)\u001b[38;5;66;03m#, inputenc = 'utf8x')#, fontenc='T1')\u001b[39;00m\n",
      "\u001b[0;31mNameError\u001b[0m: name 'log' is not defined"
     ]
    }
   ],
   "source": [
    "### STEP 4. Writing results to output LaTeX document\n",
    "action = \"writing output to LaTeX file\"\n",
    "log.info(\"%s\" % action)\n",
    "geometry_options = {'tmargin': '2cm', 'lmargin': '2cm', 'bmargin': '2cm', 'rmargin': '2cm'}\n",
    "doc = pylatex.Document(geometry_options=geometry_options)#, inputenc = 'utf8x')#, fontenc='T1')\n",
    "with doc.create(pylatex.Section('Results of literature mining')):\n",
    "    \n",
    "    for uid, article in masterDict.items():\n",
    "        if uid == 'pubmed_query':\n",
    "            continue\n",
    "        if article['article_result_paragraphs']:\n",
    "            with doc.create(pylatex.Subsection(article['article_title'])):\n",
    "                doc.append('Year: %s | PubMed ID: %s | PubMedCentral ID: %s\\n\\n' % (article['article_publdate']['Year'], article['article_pmid'], article['article_pmcid']))\n",
    "                doc.append('Keywords: %s\\n\\n' % (article['article_keywords']))\n",
    "                doc.append('MeSH: %s\\n\\n' % (article['article_mesh']))\n",
    "                \n",
    "                # Fuse all paragraphs into single string\n",
    "                main_text = '\\n\\n'.join(article['article_result_paragraphs'])\n",
    "\n",
    "                # Conducting case-insensitive string replacements\n",
    "                for gene in article['found_genes']:\n",
    "                    if gene.casefold() in main_text.casefold():\n",
    "                        gene_repl = '___' + gene + '|||'\n",
    "                        main_text = re.sub(gene, gene_repl, main_text, flags=re.IGNORECASE)\n",
    "                for toxin in article['found_toxins']:\n",
    "                    if toxin.casefold() in main_text.casefold():\n",
    "                        toxin_repl = '$$$' + toxin + '!!!'\n",
    "                        main_text = re.sub(toxin, toxin_repl, main_text, flags=re.IGNORECASE)\n",
    "                main_text = main_text.replace(\" gene \", ' +++'+\"gene\"+'=== ')\n",
    "                main_text = main_text.replace(\" gene,\", ' +++'+\"gene\"+'===,')\n",
    "                main_text = main_text.replace(\" gene.\", ' +++'+\"gene\"+'===.')\n",
    "                    \n",
    "                # Enforce a character encoding, if any\n",
    "                #main_text = main_text.encode('utf8')\n",
    "                main_text = pylatexenc.latexencode.unicode_to_latex(main_text)\n",
    "                doc.append(pylatex.utils.NoEscape(main_text))  ## NoEscape tells pylatex your string is already encoded as latex and not to encode it again\n",
    "\n",
    "                #doc.append(main_text)\n",
    "\n",
    "#doc.packages.append(pylatex.Package('xcolor'))compiling LaTeX file to PDF\n",
    "doc.preamble.append(pylatex.Command('usepackage', 'helvet'))\n",
    "doc.preamble.append(pylatex.NoEscape('\\\\usepackage[rgb,dvipsnames]{xcolor}'))\n",
    "doc.preamble.append(pylatex.NoEscape('\\\\usepackage[utf8]{inputenc}'))\n",
    "doc.preamble.append(pylatex.NoEscape(r'\\renewcommand{\\familydefault}{\\sfdefault}'))"
   ]
  },
  {
   "cell_type": "code",
   "execution_count": 2,
   "id": "1a2737ab-b739-41be-8390-b1e6722d674c",
   "metadata": {},
   "outputs": [
    {
     "data": {
      "text/plain": [
       "'\\n# Until a better solution has been found:\\n# START\\ndoc.preamble.append(pylatex.Command(\\'usepackage\\', \\'newunicodechar\\'))\\ndoc.preamble.append(pylatex.NoEscape(r\\'\\newunicodechar{²}{\\\\ensuremath{{}^2}}\\'))\\ndoc.preamble.append(pylatex.NoEscape(r\\'\\newunicodechar{\\u2009}{\\\\,}\\')) ## (U+2009)\\ndoc.preamble.append(pylatex.NoEscape(r\\'\\newunicodechar{\\u2005}{\\\\,}\\')) ## (U+2005)\\ndoc.preamble.append(pylatex.NoEscape(r\\'\\newunicodechar{\\u200a}{\\\\,}\\')) ## (U+200A)\\ndoc.preamble.append(pylatex.NoEscape(r\\'\\newunicodechar{\\u200b}{\\\\,}\\')) ## (U+200B)\\ndoc.preamble.append(pylatex.NoEscape(r\"\\newunicodechar{′}{\\'}\"))\\ndoc.preamble.append(pylatex.NoEscape(r\"\\newunicodechar{ʹ}{\\'}\")) ## (U+02B9)\\ndoc.preamble.append(pylatex.NoEscape(r\\'\\newunicodechar{≈}{$\\x07pprox$}\\')) ## (U+2248)\\ndoc.preamble.append(pylatex.NoEscape(r\\'\\newunicodechar{∼}{$\\\\sim$}\\')) ## (U+223C)\\ndoc.preamble.append(pylatex.NoEscape(r\\'\\newunicodechar{−}{\\\\ensuremath{-}}\\'))\\ndoc.preamble.append(pylatex.NoEscape(r\\'\\newunicodechar{∶}{\\\\ensuremath{:}}\\'))\\ndoc.preamble.append(pylatex.NoEscape(r\\'\\newunicodechar{≤}{\\\\ensuremath{\\\\leq}}\\'))\\ndoc.preamble.append(pylatex.NoEscape(r\\'\\newunicodechar{≥}{\\\\ensuremath{\\\\geq}}\\'))\\ndoc.preamble.append(pylatex.NoEscape(r\\'\\newunicodechar{α}{\\\\ensuremath{\\x07lpha}}\\'))\\ndoc.preamble.append(pylatex.NoEscape(r\\'\\newunicodechar{β}{\\\\ensuremath{\\x08eta}}\\'))\\ndoc.preamble.append(pylatex.NoEscape(r\\'\\newunicodechar{Δ}{\\\\ensuremath{\\\\Delta}}\\')) ## (U+0394)\\ndoc.preamble.append(pylatex.NoEscape(r\\'\\newunicodechar{∆}{\\\\ensuremath{\\\\Delta}}\\')) ## (U+2206)\\ndoc.preamble.append(pylatex.NoEscape(r\\'\\newunicodechar{△}{\\\\ensuremath{\\\\Delta}}\\')) ## (U+25B3)\\ndoc.preamble.append(pylatex.NoEscape(r\\'\\newunicodechar{λ}{\\\\ensuremath{\\\\lambda}}\\'))\\ndoc.preamble.append(pylatex.NoEscape(r\\'\\newunicodechar{μ}{\\\\ensuremath{\\\\mu}}\\'))\\ndoc.preamble.append(pylatex.NoEscape(r\\'\\newunicodechar{ε}{\\\\ensuremath{\\\\epsilon}}\\')) ## (U+03B5)\\ndoc.preamble.append(pylatex.NoEscape(r\\'\\newunicodechar{κ}{\\\\ensuremath{\\\\kappa}}\\')) ## (U+03BA)\\ndoc.preamble.append(pylatex.NoEscape(r\\'\\newunicodechar{γ}{\\\\ensuremath{\\\\gamma}}\\')) ## (U+03B3)\\n# END\\n'"
      ]
     },
     "execution_count": 2,
     "metadata": {},
     "output_type": "execute_result"
    }
   ],
   "source": [
    "'''\n",
    "# Until a better solution has been found:\n",
    "# START\n",
    "doc.preamble.append(pylatex.Command('usepackage', 'newunicodechar'))\n",
    "doc.preamble.append(pylatex.NoEscape(r'\\newunicodechar{²}{\\ensuremath{{}^2}}'))\n",
    "doc.preamble.append(pylatex.NoEscape(r'\\newunicodechar{ }{\\,}')) ## (U+2009)\n",
    "doc.preamble.append(pylatex.NoEscape(r'\\newunicodechar{ }{\\,}')) ## (U+2005)\n",
    "doc.preamble.append(pylatex.NoEscape(r'\\newunicodechar{ }{\\,}')) ## (U+200A)\n",
    "doc.preamble.append(pylatex.NoEscape(r'\\newunicodechar{​}{\\,}')) ## (U+200B)\n",
    "doc.preamble.append(pylatex.NoEscape(r\"\\newunicodechar{′}{'}\"))\n",
    "doc.preamble.append(pylatex.NoEscape(r\"\\newunicodechar{ʹ}{'}\")) ## (U+02B9)\n",
    "doc.preamble.append(pylatex.NoEscape(r'\\newunicodechar{≈}{$\\approx$}')) ## (U+2248)\n",
    "doc.preamble.append(pylatex.NoEscape(r'\\newunicodechar{∼}{$\\sim$}')) ## (U+223C)\n",
    "doc.preamble.append(pylatex.NoEscape(r'\\newunicodechar{−}{\\ensuremath{-}}'))\n",
    "doc.preamble.append(pylatex.NoEscape(r'\\newunicodechar{∶}{\\ensuremath{:}}'))\n",
    "doc.preamble.append(pylatex.NoEscape(r'\\newunicodechar{≤}{\\ensuremath{\\leq}}'))\n",
    "doc.preamble.append(pylatex.NoEscape(r'\\newunicodechar{≥}{\\ensuremath{\\geq}}'))\n",
    "doc.preamble.append(pylatex.NoEscape(r'\\newunicodechar{α}{\\ensuremath{\\alpha}}'))\n",
    "doc.preamble.append(pylatex.NoEscape(r'\\newunicodechar{β}{\\ensuremath{\\beta}}'))\n",
    "doc.preamble.append(pylatex.NoEscape(r'\\newunicodechar{Δ}{\\ensuremath{\\Delta}}')) ## (U+0394)\n",
    "doc.preamble.append(pylatex.NoEscape(r'\\newunicodechar{∆}{\\ensuremath{\\Delta}}')) ## (U+2206)\n",
    "doc.preamble.append(pylatex.NoEscape(r'\\newunicodechar{△}{\\ensuremath{\\Delta}}')) ## (U+25B3)\n",
    "doc.preamble.append(pylatex.NoEscape(r'\\newunicodechar{λ}{\\ensuremath{\\lambda}}'))\n",
    "doc.preamble.append(pylatex.NoEscape(r'\\newunicodechar{μ}{\\ensuremath{\\mu}}'))\n",
    "doc.preamble.append(pylatex.NoEscape(r'\\newunicodechar{ε}{\\ensuremath{\\epsilon}}')) ## (U+03B5)\n",
    "doc.preamble.append(pylatex.NoEscape(r'\\newunicodechar{κ}{\\ensuremath{\\kappa}}')) ## (U+03BA)\n",
    "doc.preamble.append(pylatex.NoEscape(r'\\newunicodechar{γ}{\\ensuremath{\\gamma}}')) ## (U+03B3)\n",
    "# END\n",
    "'''"
   ]
  },
  {
   "cell_type": "code",
   "execution_count": null,
   "id": "54967d03-f335-4328-9d82-e2f13d8a72f4",
   "metadata": {},
   "outputs": [],
   "source": [
    "#doc.generate_pdf(output_fn, clean_tex=False)\n",
    "doc.generate_tex(output_fn)"
   ]
  },
  {
   "cell_type": "code",
   "execution_count": 4,
   "id": "8234cb01-d580-4e73-be95-bf4b3273bb35",
   "metadata": {},
   "outputs": [
    {
     "name": "stderr",
     "output_type": "stream",
     "text": [
      "2022-07-28 09:24:10 [INFO] postprocessing the LaTeX file\n",
      "2022-07-28 09:24:10 [INFO] compiling LaTeX file to PDF\n"
     ]
    },
    {
     "data": {
      "text/plain": [
       "CompletedProcess(args=['pdflatex', '/home/mgruenst/tmp/results/litMiningPubmed_Results_2022_07_28_0911.tex'], returncode=0)"
      ]
     },
     "execution_count": 4,
     "metadata": {},
     "output_type": "execute_result"
    }
   ],
   "source": [
    "### STEP 5. Writing results to output LaTeX document\n",
    "action = \"postprocessing the LaTeX file\"\n",
    "log.info(\"%s\" % action)\n",
    "with open(output_fn+'.tex', 'r') as file:\n",
    "    tex_doc = file.read()\n",
    "    # Gene highlights\n",
    "    tex_doc = tex_doc.replace('\\_\\_\\_', '\\colorbox{blue!30}{')\n",
    "    tex_doc = tex_doc.replace('|||', '}')\n",
    "    # Toxin highlights\n",
    "    tex_doc = tex_doc.replace('\\$\\$\\$', '\\colorbox{red!30}{')\n",
    "    tex_doc = tex_doc.replace('!!!', '}')\n",
    "    # Keyword highlights\n",
    "    tex_doc = tex_doc.replace('+++', '\\colorbox{OliveGreen!30}{')\n",
    "    tex_doc = tex_doc.replace('===', '}')\n",
    "    ## Special unicode characters\n",
    "    tex_doc = tex_doc.replace('Ⅱ', 'II')\n",
    "    \n",
    "with open(output_fn+'.tex', 'w') as file:\n",
    "    file.write(tex_doc)\n",
    "    \n",
    "action = \"compiling LaTeX file to PDF\"\n",
    "log.info(\"%s\" % action)\n",
    "subprocess.run([\"pdflatex\", output_fn+'.tex'], \n",
    "               stderr=subprocess.DEVNULL,\n",
    "               stdout=subprocess.DEVNULL)"
   ]
  }
 ],
 "metadata": {
  "kernelspec": {
   "display_name": "Python 3 (ipykernel)",
   "language": "python",
   "name": "python3"
  },
  "language_info": {
   "codemirror_mode": {
    "name": "ipython",
    "version": 3
   },
   "file_extension": ".py",
   "mimetype": "text/x-python",
   "name": "python",
   "nbconvert_exporter": "python",
   "pygments_lexer": "ipython3",
   "version": "3.8.13"
  }
 },
 "nbformat": 4,
 "nbformat_minor": 5
}
