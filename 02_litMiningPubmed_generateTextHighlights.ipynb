{
 "cells": [
  {
   "cell_type": "code",
   "execution_count": 1,
   "id": "9ee9b6da-36b7-49c2-a485-86c590bdf8ee",
   "metadata": {},
   "outputs": [],
   "source": [
    "### STEP 1. Preamble\n",
    "import coloredlogs\n",
    "import ipdb\n",
    "import json\n",
    "import logging\n",
    "import os\n",
    "import pylatex\n",
    "import pylatexenc\n",
    "from pylatexenc import latexencode  # line is necessary\n",
    "import re\n",
    "import subprocess\n",
    "import tkinter\n",
    "import tkinter.filedialog\n",
    "\n",
    "verbose = True\n",
    "\n",
    "### STEP 2. Set up logger\n",
    "log = logging.getLogger(__name__)\n",
    "if verbose:\n",
    "    coloredlogs.install(fmt='%(asctime)s [%(levelname)s] %(message)s', level=logging.DEBUG, logger=log)\n",
    "else:\n",
    "    coloredlogs.install(fmt='%(asctime)s [%(levelname)s] %(message)s', level=logging.INFO, logger=log)"
   ]
  },
  {
   "cell_type": "code",
   "execution_count": 2,
   "id": "762b8721-95c0-4141-98dc-7c3153c56a7f",
   "metadata": {
    "tags": []
   },
   "outputs": [],
   "source": [
    "### STEP 3. Read JSON infile\n",
    "tkinter.Tk().withdraw() ## Prevent root window\n",
    "in_fn = tkinter.filedialog.askopenfilename()\n",
    "\n",
    "output_fn = in_fn.strip(\".json\")\n",
    "\n",
    "with open(in_fn, 'r') as file:\n",
    "    masterDict = json.load(file)   "
   ]
  },
  {
   "cell_type": "code",
   "execution_count": null,
   "id": "5652eb25-b232-48c8-baf7-426b5dd413c7",
   "metadata": {},
   "outputs": [
    {
     "ename": "NameError",
     "evalue": "name 'log' is not defined",
     "output_type": "error",
     "traceback": [
      "\u001b[0;31m---------------------------------------------------------------------------\u001b[0m",
      "\u001b[0;31mNameError\u001b[0m                                 Traceback (most recent call last)",
      "Input \u001b[0;32mIn [1]\u001b[0m, in \u001b[0;36m<cell line: 3>\u001b[0;34m()\u001b[0m\n\u001b[1;32m      1\u001b[0m \u001b[38;5;66;03m### STEP 4. Writing results to output LaTeX document\u001b[39;00m\n\u001b[1;32m      2\u001b[0m action \u001b[38;5;241m=\u001b[39m \u001b[38;5;124m\"\u001b[39m\u001b[38;5;124mwriting output to LaTeX file\u001b[39m\u001b[38;5;124m\"\u001b[39m\n\u001b[0;32m----> 3\u001b[0m \u001b[43mlog\u001b[49m\u001b[38;5;241m.\u001b[39minfo(\u001b[38;5;124m\"\u001b[39m\u001b[38;5;132;01m%s\u001b[39;00m\u001b[38;5;124m\"\u001b[39m \u001b[38;5;241m%\u001b[39m action)\n\u001b[1;32m      4\u001b[0m geometry_options \u001b[38;5;241m=\u001b[39m {\u001b[38;5;124m'\u001b[39m\u001b[38;5;124mtmargin\u001b[39m\u001b[38;5;124m'\u001b[39m: \u001b[38;5;124m'\u001b[39m\u001b[38;5;124m2cm\u001b[39m\u001b[38;5;124m'\u001b[39m, \u001b[38;5;124m'\u001b[39m\u001b[38;5;124mlmargin\u001b[39m\u001b[38;5;124m'\u001b[39m: \u001b[38;5;124m'\u001b[39m\u001b[38;5;124m2cm\u001b[39m\u001b[38;5;124m'\u001b[39m, \u001b[38;5;124m'\u001b[39m\u001b[38;5;124mbmargin\u001b[39m\u001b[38;5;124m'\u001b[39m: \u001b[38;5;124m'\u001b[39m\u001b[38;5;124m2cm\u001b[39m\u001b[38;5;124m'\u001b[39m, \u001b[38;5;124m'\u001b[39m\u001b[38;5;124mrmargin\u001b[39m\u001b[38;5;124m'\u001b[39m: \u001b[38;5;124m'\u001b[39m\u001b[38;5;124m2cm\u001b[39m\u001b[38;5;124m'\u001b[39m}\n\u001b[1;32m      5\u001b[0m doc \u001b[38;5;241m=\u001b[39m pylatex\u001b[38;5;241m.\u001b[39mDocument(geometry_options\u001b[38;5;241m=\u001b[39mgeometry_options)\u001b[38;5;66;03m#, inputenc = 'utf8x')#, fontenc='T1')\u001b[39;00m\n",
      "\u001b[0;31mNameError\u001b[0m: name 'log' is not defined"
     ]
    }
   ],
   "source": [
    "### STEP 4. Writing results to output LaTeX document\n",
    "action = \"writing output to LaTeX file\"\n",
    "log.info(\"%s\" % action)\n",
    "geometry_options = {'tmargin': '2cm', 'lmargin': '2cm', 'bmargin': '2cm', 'rmargin': '2cm'}\n",
    "doc = pylatex.Document(geometry_options=geometry_options)#, inputenc = 'utf8x')#, fontenc='T1')\n",
    "with doc.create(pylatex.Section('Results of literature mining')):\n",
    "    \n",
    "    for uid, article in masterDict.items():\n",
    "        if uid == 'pubmed_query':\n",
    "            continue\n",
    "        if article['article_result_paragraphs']:\n",
    "            with doc.create(pylatex.Subsection(article['article_title'])):\n",
    "                doc.append('Year: %s | PubMed ID: %s | PubMedCentral ID: %s\\n\\n' % (article['article_publdate']['Year'], article['article_pmid'], article['article_pmcid']))\n",
    "                doc.append('Keywords: %s\\n\\n' % (article['article_keywords']))\n",
    "                doc.append('MeSH: %s\\n\\n' % (article['article_mesh']))\n",
    "                \n",
    "                # Fuse all paragraphs into single string\n",
    "                main_text = '\\n\\n'.join(article['article_result_paragraphs'])\n",
    "\n",
    "                # Conducting case-insensitive string replacements\n",
    "                for gene in article['found_genes']:\n",
    "                    if gene.casefold() in main_text.casefold():\n",
    "                        gene_repl = '___' + gene + '|||'\n",
    "                        main_text = re.sub(gene, gene_repl, main_text, flags=re.IGNORECASE)\n",
    "                for toxin in article['found_toxins']:\n",
    "                    if toxin.casefold() in main_text.casefold():\n",
    "                        toxin_repl = '$$$' + toxin + '!!!'\n",
    "                        main_text = re.sub(toxin, toxin_repl, main_text, flags=re.IGNORECASE)\n",
    "                main_text = main_text.replace(\" gene \", ' +++'+\"gene\"+'=== ')\n",
    "                main_text = main_text.replace(\" gene,\", ' +++'+\"gene\"+'===,')\n",
    "                main_text = main_text.replace(\" gene.\", ' +++'+\"gene\"+'===.')\n",
    "                    \n",
    "                # Enforce a character encoding, if any\n",
    "                #main_text = main_text.encode('utf8')\n",
    "                main_text = pylatexenc.latexencode.unicode_to_latex(main_text)\n",
    "                doc.append(pylatex.utils.NoEscape(main_text))  ## NoEscape tells pylatex your string is already encoded as latex and not to encode it again\n",
    "\n",
    "                #doc.append(main_text)\n",
    "\n",
    "#doc.packages.append(pylatex.Package('xcolor'))compiling LaTeX file to PDF\n",
    "doc.preamble.append(pylatex.Command('usepackage', 'helvet'))\n",
    "doc.preamble.append(pylatex.NoEscape('\\\\usepackage[rgb,dvipsnames]{xcolor}'))\n",
    "doc.preamble.append(pylatex.NoEscape('\\\\usepackage[utf8]{inputenc}'))\n",
    "doc.preamble.append(pylatex.NoEscape(r'\\renewcommand{\\familydefault}{\\sfdefault}'))"
   ]
  }
 ],
 "metadata": {
  "kernelspec": {
   "display_name": "Python 3 (ipykernel)",
   "language": "python",
   "name": "python3"
  },
  "language_info": {
   "codemirror_mode": {
    "name": "ipython",
    "version": 3
   },
   "file_extension": ".py",
   "mimetype": "text/x-python",
   "name": "python",
   "nbconvert_exporter": "python",
   "pygments_lexer": "ipython3",
   "version": "3.8.13"
  }
 },
 "nbformat": 4,
 "nbformat_minor": 5
}
